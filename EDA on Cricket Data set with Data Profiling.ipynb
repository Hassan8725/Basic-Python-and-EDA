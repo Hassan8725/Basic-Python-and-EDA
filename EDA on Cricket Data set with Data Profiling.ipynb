{
 "cells": [
  {
   "cell_type": "code",
   "execution_count": 1,
   "metadata": {},
   "outputs": [],
   "source": [
    "import pandas as pd\n",
    "import numpy as np\n",
    "import matplotlib.pyplot as plt\n",
    "import seaborn as sns\n",
    "import re"
   ]
  },
  {
   "cell_type": "code",
   "execution_count": 2,
   "metadata": {},
   "outputs": [],
   "source": [
    "ckd=pd.read_csv(\"C:/Users/Hassan Ahmed/Desktop/Data Science Cohort-1 FTI/Cricket.csv\")"
   ]
  },
  {
   "cell_type": "markdown",
   "metadata": {},
   "source": [
    "# Knowing This Data Set"
   ]
  },
  {
   "cell_type": "code",
   "execution_count": 3,
   "metadata": {},
   "outputs": [
    {
     "data": {
      "text/html": [
       "<div>\n",
       "<style scoped>\n",
       "    .dataframe tbody tr th:only-of-type {\n",
       "        vertical-align: middle;\n",
       "    }\n",
       "\n",
       "    .dataframe tbody tr th {\n",
       "        vertical-align: top;\n",
       "    }\n",
       "\n",
       "    .dataframe thead th {\n",
       "        text-align: right;\n",
       "    }\n",
       "</style>\n",
       "<table border=\"1\" class=\"dataframe\">\n",
       "  <thead>\n",
       "    <tr style=\"text-align: right;\">\n",
       "      <th></th>\n",
       "      <th>ConsecutiveWins</th>\n",
       "      <th>Season</th>\n",
       "      <th>Opposition_Others</th>\n",
       "      <th>Country</th>\n",
       "      <th>Ground</th>\n",
       "      <th>Home_Ground</th>\n",
       "      <th>Day_Night</th>\n",
       "      <th>PitchReport</th>\n",
       "      <th>BattingFirst</th>\n",
       "      <th>Combination Changed</th>\n",
       "      <th>Pak_Win</th>\n",
       "    </tr>\n",
       "  </thead>\n",
       "  <tbody>\n",
       "    <tr>\n",
       "      <th>0</th>\n",
       "      <td>0</td>\n",
       "      <td>Summer</td>\n",
       "      <td>New Zealand</td>\n",
       "      <td>New Zealand</td>\n",
       "      <td>Wellington</td>\n",
       "      <td>No</td>\n",
       "      <td>Yes</td>\n",
       "      <td>bouncy</td>\n",
       "      <td>Yes</td>\n",
       "      <td>No</td>\n",
       "      <td>No</td>\n",
       "    </tr>\n",
       "    <tr>\n",
       "      <th>1</th>\n",
       "      <td>0</td>\n",
       "      <td>Summer</td>\n",
       "      <td>New Zealand</td>\n",
       "      <td>South Africa</td>\n",
       "      <td>Queenstown</td>\n",
       "      <td>No</td>\n",
       "      <td>No</td>\n",
       "      <td>bouncy</td>\n",
       "      <td>Yes</td>\n",
       "      <td>No</td>\n",
       "      <td>No</td>\n",
       "    </tr>\n",
       "    <tr>\n",
       "      <th>2</th>\n",
       "      <td>0</td>\n",
       "      <td>Summer</td>\n",
       "      <td>New Zealand</td>\n",
       "      <td>New Zealand</td>\n",
       "      <td>Christchurch</td>\n",
       "      <td>No</td>\n",
       "      <td>Yes</td>\n",
       "      <td>bouncy</td>\n",
       "      <td>Yes</td>\n",
       "      <td>No</td>\n",
       "      <td>Yes</td>\n",
       "    </tr>\n",
       "    <tr>\n",
       "      <th>3</th>\n",
       "      <td>1</td>\n",
       "      <td>Summer</td>\n",
       "      <td>New Zealand</td>\n",
       "      <td>New Zealand</td>\n",
       "      <td>Napier</td>\n",
       "      <td>No</td>\n",
       "      <td>Yes</td>\n",
       "      <td>bouncy</td>\n",
       "      <td>No</td>\n",
       "      <td>No</td>\n",
       "      <td>Yes</td>\n",
       "    </tr>\n",
       "    <tr>\n",
       "      <th>4</th>\n",
       "      <td>2</td>\n",
       "      <td>Summer</td>\n",
       "      <td>New Zealand</td>\n",
       "      <td>New Zealand</td>\n",
       "      <td>Hamilton</td>\n",
       "      <td>No</td>\n",
       "      <td>Yes</td>\n",
       "      <td>bouncy</td>\n",
       "      <td>Yes</td>\n",
       "      <td>No</td>\n",
       "      <td>Yes</td>\n",
       "    </tr>\n",
       "    <tr>\n",
       "      <th>5</th>\n",
       "      <td>3</td>\n",
       "      <td>Summer</td>\n",
       "      <td>New Zealand</td>\n",
       "      <td>New Zealand</td>\n",
       "      <td>Auckland</td>\n",
       "      <td>No</td>\n",
       "      <td>No</td>\n",
       "      <td>bouncy</td>\n",
       "      <td>No</td>\n",
       "      <td>No</td>\n",
       "      <td>No</td>\n",
       "    </tr>\n",
       "    <tr>\n",
       "      <th>6</th>\n",
       "      <td>0</td>\n",
       "      <td>Winter</td>\n",
       "      <td>Others</td>\n",
       "      <td>SriLanka</td>\n",
       "      <td>Hambantota</td>\n",
       "      <td>No</td>\n",
       "      <td>Yes</td>\n",
       "      <td>dry</td>\n",
       "      <td>Yes</td>\n",
       "      <td>Yes</td>\n",
       "      <td>Yes</td>\n",
       "    </tr>\n",
       "    <tr>\n",
       "      <th>7</th>\n",
       "      <td>1</td>\n",
       "      <td>Winter</td>\n",
       "      <td>Sri Lanka</td>\n",
       "      <td>SriLanka</td>\n",
       "      <td>Colombo (RPS)</td>\n",
       "      <td>No</td>\n",
       "      <td>Yes</td>\n",
       "      <td>dry</td>\n",
       "      <td>Yes</td>\n",
       "      <td>No</td>\n",
       "      <td>Yes</td>\n",
       "    </tr>\n",
       "    <tr>\n",
       "      <th>8</th>\n",
       "      <td>2</td>\n",
       "      <td>Spring</td>\n",
       "      <td>Others</td>\n",
       "      <td>SriLanka</td>\n",
       "      <td>Colombo (RPS)</td>\n",
       "      <td>No</td>\n",
       "      <td>Yes</td>\n",
       "      <td>dry</td>\n",
       "      <td>Yes</td>\n",
       "      <td>Yes</td>\n",
       "      <td>45</td>\n",
       "    </tr>\n",
       "    <tr>\n",
       "      <th>9</th>\n",
       "      <td>3</td>\n",
       "      <td>Autumn</td>\n",
       "      <td>New Zealand</td>\n",
       "      <td>SriLanka</td>\n",
       "      <td>Pallekele</td>\n",
       "      <td>No</td>\n",
       "      <td>Yes</td>\n",
       "      <td>dry</td>\n",
       "      <td>No</td>\n",
       "      <td>NaN</td>\n",
       "      <td>No</td>\n",
       "    </tr>\n",
       "  </tbody>\n",
       "</table>\n",
       "</div>"
      ],
      "text/plain": [
       "  ConsecutiveWins  Season Opposition_Others       Country         Ground  \\\n",
       "0               0  Summer       New Zealand   New Zealand     Wellington   \n",
       "1               0  Summer       New Zealand  South Africa     Queenstown   \n",
       "2               0  Summer       New Zealand   New Zealand   Christchurch   \n",
       "3               1  Summer       New Zealand   New Zealand         Napier   \n",
       "4               2  Summer       New Zealand   New Zealand       Hamilton   \n",
       "5               3  Summer       New Zealand   New Zealand       Auckland   \n",
       "6               0  Winter            Others      SriLanka     Hambantota   \n",
       "7               1  Winter         Sri Lanka      SriLanka  Colombo (RPS)   \n",
       "8               2  Spring            Others      SriLanka  Colombo (RPS)   \n",
       "9               3  Autumn       New Zealand      SriLanka      Pallekele   \n",
       "\n",
       "  Home_Ground Day_Night PitchReport BattingFirst Combination Changed  Pak_Win  \n",
       "0          No       Yes      bouncy          Yes                   No      No  \n",
       "1          No        No      bouncy          Yes                   No      No  \n",
       "2          No       Yes      bouncy          Yes                   No     Yes  \n",
       "3          No       Yes      bouncy           No                   No     Yes  \n",
       "4          No       Yes      bouncy          Yes                   No     Yes  \n",
       "5          No        No      bouncy           No                   No      No  \n",
       "6          No       Yes         dry          Yes                  Yes     Yes  \n",
       "7          No       Yes         dry          Yes                   No     Yes  \n",
       "8          No       Yes         dry          Yes                  Yes      45  \n",
       "9          No       Yes         dry           No                  NaN      No  "
      ]
     },
     "execution_count": 3,
     "metadata": {},
     "output_type": "execute_result"
    }
   ],
   "source": [
    "# Getting an overview of the data\n",
    "ckd.head(10)"
   ]
  },
  {
   "cell_type": "code",
   "execution_count": 4,
   "metadata": {},
   "outputs": [
    {
     "data": {
      "text/html": [
       "<div>\n",
       "<style scoped>\n",
       "    .dataframe tbody tr th:only-of-type {\n",
       "        vertical-align: middle;\n",
       "    }\n",
       "\n",
       "    .dataframe tbody tr th {\n",
       "        vertical-align: top;\n",
       "    }\n",
       "\n",
       "    .dataframe thead th {\n",
       "        text-align: right;\n",
       "    }\n",
       "</style>\n",
       "<table border=\"1\" class=\"dataframe\">\n",
       "  <thead>\n",
       "    <tr style=\"text-align: right;\">\n",
       "      <th></th>\n",
       "      <th>ConsecutiveWins</th>\n",
       "      <th>Season</th>\n",
       "      <th>Opposition_Others</th>\n",
       "      <th>Country</th>\n",
       "      <th>Ground</th>\n",
       "      <th>Home_Ground</th>\n",
       "      <th>Day_Night</th>\n",
       "      <th>PitchReport</th>\n",
       "      <th>BattingFirst</th>\n",
       "      <th>Combination Changed</th>\n",
       "      <th>Pak_Win</th>\n",
       "    </tr>\n",
       "  </thead>\n",
       "  <tbody>\n",
       "    <tr>\n",
       "      <th>count</th>\n",
       "      <td>95</td>\n",
       "      <td>94</td>\n",
       "      <td>94</td>\n",
       "      <td>95</td>\n",
       "      <td>95</td>\n",
       "      <td>94</td>\n",
       "      <td>95</td>\n",
       "      <td>95</td>\n",
       "      <td>94</td>\n",
       "      <td>12</td>\n",
       "      <td>94</td>\n",
       "    </tr>\n",
       "    <tr>\n",
       "      <th>unique</th>\n",
       "      <td>10</td>\n",
       "      <td>4</td>\n",
       "      <td>10</td>\n",
       "      <td>10</td>\n",
       "      <td>37</td>\n",
       "      <td>1</td>\n",
       "      <td>2</td>\n",
       "      <td>6</td>\n",
       "      <td>2</td>\n",
       "      <td>2</td>\n",
       "      <td>4</td>\n",
       "    </tr>\n",
       "    <tr>\n",
       "      <th>top</th>\n",
       "      <td>0</td>\n",
       "      <td>Spring</td>\n",
       "      <td>Sri Lanka</td>\n",
       "      <td>UAE</td>\n",
       "      <td>Dhaka</td>\n",
       "      <td>No</td>\n",
       "      <td>Yes</td>\n",
       "      <td>dry</td>\n",
       "      <td>No</td>\n",
       "      <td>No</td>\n",
       "      <td>Yes</td>\n",
       "    </tr>\n",
       "    <tr>\n",
       "      <th>freq</th>\n",
       "      <td>43</td>\n",
       "      <td>35</td>\n",
       "      <td>22</td>\n",
       "      <td>26</td>\n",
       "      <td>10</td>\n",
       "      <td>94</td>\n",
       "      <td>60</td>\n",
       "      <td>39</td>\n",
       "      <td>47</td>\n",
       "      <td>9</td>\n",
       "      <td>49</td>\n",
       "    </tr>\n",
       "  </tbody>\n",
       "</table>\n",
       "</div>"
      ],
      "text/plain": [
       "       ConsecutiveWins  Season Opposition_Others Country Ground Home_Ground  \\\n",
       "count               95      94                94      95     95          94   \n",
       "unique              10       4                10      10     37           1   \n",
       "top                  0  Spring         Sri Lanka     UAE  Dhaka          No   \n",
       "freq                43      35                22      26     10          94   \n",
       "\n",
       "       Day_Night PitchReport BattingFirst Combination Changed  Pak_Win  \n",
       "count         95          95           94                   12      94  \n",
       "unique         2           6            2                    2       4  \n",
       "top          Yes         dry           No                   No     Yes  \n",
       "freq          60          39           47                    9      49  "
      ]
     },
     "execution_count": 4,
     "metadata": {},
     "output_type": "execute_result"
    }
   ],
   "source": [
    "# Getting basic description of the data\n",
    "ckd.describe()"
   ]
  },
  {
   "cell_type": "code",
   "execution_count": 5,
   "metadata": {},
   "outputs": [
    {
     "name": "stdout",
     "output_type": "stream",
     "text": [
      "<class 'pandas.core.frame.DataFrame'>\n",
      "RangeIndex: 95 entries, 0 to 94\n",
      "Data columns (total 11 columns):\n",
      "ConsecutiveWins         95 non-null object\n",
      "Season                  94 non-null object\n",
      "Opposition_Others       94 non-null object\n",
      "Country                 95 non-null object\n",
      "Ground                  95 non-null object\n",
      "Home_Ground             94 non-null object\n",
      "Day_Night               95 non-null object\n",
      "PitchReport             95 non-null object\n",
      "BattingFirst            94 non-null object\n",
      "Combination Changed     12 non-null object\n",
      "Pak_Win                 94 non-null object\n",
      "dtypes: object(11)\n",
      "memory usage: 8.3+ KB\n"
     ]
    }
   ],
   "source": [
    "# Checking the data type and no. of values in all the columns\n",
    "ckd.info()"
   ]
  },
  {
   "cell_type": "markdown",
   "metadata": {},
   "source": [
    "# Checking all the null values\n"
   ]
  },
  {
   "cell_type": "code",
   "execution_count": 6,
   "metadata": {},
   "outputs": [
    {
     "data": {
      "text/plain": [
       "ConsecutiveWins          0\n",
       "Season                   1\n",
       "Opposition_Others        1\n",
       "Country                  0\n",
       "Ground                   0\n",
       "Home_Ground              1\n",
       "Day_Night                0\n",
       "PitchReport              0\n",
       "BattingFirst             1\n",
       "Combination Changed     83\n",
       "Pak_Win                  1\n",
       "dtype: int64"
      ]
     },
     "execution_count": 6,
     "metadata": {},
     "output_type": "execute_result"
    }
   ],
   "source": [
    "ckd.isnull().sum()"
   ]
  },
  {
   "cell_type": "code",
   "execution_count": 7,
   "metadata": {},
   "outputs": [
    {
     "data": {
      "text/plain": [
       "Index(['ConsecutiveWins', 'Season', 'Opposition_Others', 'Country', 'Ground',\n",
       "       'Home_Ground', 'Day_Night', 'PitchReport', 'BattingFirst',\n",
       "       'Combination Changed ', 'Pak_Win'],\n",
       "      dtype='object')"
      ]
     },
     "execution_count": 7,
     "metadata": {},
     "output_type": "execute_result"
    }
   ],
   "source": [
    "ckd.columns"
   ]
  },
  {
   "cell_type": "markdown",
   "metadata": {},
   "source": [
    "## Changing Column Names Where Required"
   ]
  },
  {
   "cell_type": "code",
   "execution_count": 8,
   "metadata": {},
   "outputs": [],
   "source": [
    "ckd.rename(columns={'ConsecutiveWins':'Consecutive_wins', 'Opposition_Others':'Opposition','Day_Night':'One_day','PitchReport':'Pitch_report','BattingFirst':'Batting_first'\n",
    "                   ,'Combination Changed ':'Combination_changed'},inplace=True)"
   ]
  },
  {
   "cell_type": "markdown",
   "metadata": {},
   "source": [
    "# Handling Missing Values"
   ]
  },
  {
   "cell_type": "markdown",
   "metadata": {},
   "source": [
    "### Consecutive Wins"
   ]
  },
  {
   "cell_type": "code",
   "execution_count": 9,
   "metadata": {},
   "outputs": [],
   "source": [
    "# Handling all the incorrect values in Consecutive Wins columns\n",
    "cnt=0\n",
    "for row in ckd['Consecutive_wins']:\n",
    "    try:\n",
    "        int(row)==row\n",
    "        pass\n",
    "    except ValueError:\n",
    "        ckd.loc[cnt,'Consecutive_wins']=0\n",
    "    cnt+=1"
   ]
  },
  {
   "cell_type": "code",
   "execution_count": 10,
   "metadata": {},
   "outputs": [],
   "source": [
    "# Changing data type to integer\n",
    "ckd[\"Consecutive_wins\"]=ckd[\"Consecutive_wins\"].astype(\"int64\")"
   ]
  },
  {
   "cell_type": "markdown",
   "metadata": {},
   "source": [
    "### Season"
   ]
  },
  {
   "cell_type": "code",
   "execution_count": 11,
   "metadata": {},
   "outputs": [],
   "source": [
    "# Changing data type to categorical\n",
    "ckd[\"Season\"]=pd.Categorical(ckd.Season,['Summer', 'Winter', 'Spring', 'Autumn'],ordered=False)"
   ]
  },
  {
   "cell_type": "code",
   "execution_count": 12,
   "metadata": {},
   "outputs": [],
   "source": [
    "# Filling the values with last valid Season\n",
    "ckd['Season'].fillna(method=\"ffill\",inplace=True)"
   ]
  },
  {
   "cell_type": "markdown",
   "metadata": {},
   "source": [
    "### Opposition"
   ]
  },
  {
   "cell_type": "code",
   "execution_count": 13,
   "metadata": {},
   "outputs": [],
   "source": [
    "cnt=0\n",
    "for row in ckd[\"Opposition\"]:\n",
    "    if ckd.loc[cnt,\"Opposition\"]==\"Others\":\n",
    "        #print(\"yes\")\n",
    "        ckd.loc[cnt,\"Opposition\"]=\"Lower Ranked Team\"\n"
   ]
  },
  {
   "cell_type": "markdown",
   "metadata": {},
   "source": [
    "### Country"
   ]
  },
  {
   "cell_type": "code",
   "execution_count": 14,
   "metadata": {},
   "outputs": [],
   "source": [
    "# Clearing any entry which is number which is not possible in this column\n",
    "cnt=0\n",
    "for row in ckd[\"Country\"]:\n",
    "    if any(c.isnumeric() for c in str(row)):\n",
    "        ckd.loc[cnt,\"Country\"]=np.nan\n",
    "    cnt+=1\n",
    "ckd=ckd.dropna(how=\"any\",subset=[\"Country\"])\n",
    "ckd=ckd.reset_index(drop=True)"
   ]
  },
  {
   "cell_type": "markdown",
   "metadata": {},
   "source": [
    "### Ground"
   ]
  },
  {
   "cell_type": "code",
   "execution_count": 15,
   "metadata": {},
   "outputs": [],
   "source": [
    "# Clearing any entry which is number which is not possible in this column\n",
    "cnt=0\n",
    "for row in ckd[\"Ground\"]:\n",
    "    if any(c.isnumeric() for c in str(row)):\n",
    "        ckd.loc[cnt,\"Ground\"]=np.nan\n",
    "    cnt+=1\n",
    "ckd=ckd.dropna(how=\"any\",subset=[\"Ground\"])\n",
    "ckd=ckd.reset_index(drop=True)"
   ]
  },
  {
   "cell_type": "markdown",
   "metadata": {},
   "source": [
    "### Home Ground"
   ]
  },
  {
   "cell_type": "code",
   "execution_count": 16,
   "metadata": {},
   "outputs": [],
   "source": [
    "# Clearing any entry which is number which is not possible in this column\n",
    "cnt=0\n",
    "for row in ckd[\"Home_Ground\"]:\n",
    "    if any(c.isnumeric() for c in str(row)):\n",
    "        ckd.loc[cnt,\"Home_Ground\"]=np.nan\n",
    "    cnt+=1\n",
    "ckd=ckd.dropna(how=\"any\",subset=[\"Home_Ground\"])\n",
    "ckd=ckd.reset_index(drop=True)"
   ]
  },
  {
   "cell_type": "code",
   "execution_count": 17,
   "metadata": {},
   "outputs": [],
   "source": [
    "# Changing Data Type for future analysis\n",
    "ckd[\"Home_Ground\"].replace((\"Yes\",\"No\"),(1,0),inplace=True)\n",
    "ckd[\"Home_Ground\"]=ckd[\"Home_Ground\"].astype(\"int\")"
   ]
  },
  {
   "cell_type": "markdown",
   "metadata": {},
   "source": [
    "### One Day"
   ]
  },
  {
   "cell_type": "code",
   "execution_count": 18,
   "metadata": {},
   "outputs": [],
   "source": [
    "# Clearing any entry which is number which is not possible in this column\n",
    "cnt=0\n",
    "for row in ckd[\"One_day\"]:\n",
    "    if any(c.isnumeric() for c in str(row)):\n",
    "        ckd.loc[cnt,\"One_day\"]=np.nan\n",
    "    cnt+=1\n",
    "ckd=ckd.dropna(how=\"any\",subset=[\"One_day\"])\n",
    "ckd=ckd.reset_index(drop=True)"
   ]
  },
  {
   "cell_type": "code",
   "execution_count": 19,
   "metadata": {},
   "outputs": [],
   "source": [
    "# Changing Data Type for future analysis\n",
    "ckd[\"One_day\"].replace((\"Yes\",\"No\"),(1,0),inplace=True)\n",
    "ckd[\"One_day\"]=ckd[\"One_day\"].astype(\"int\")"
   ]
  },
  {
   "cell_type": "markdown",
   "metadata": {},
   "source": [
    "### Pitch Report"
   ]
  },
  {
   "cell_type": "code",
   "execution_count": 20,
   "metadata": {},
   "outputs": [],
   "source": [
    "ckd[\"Pitch_report\"]=pd.Categorical(ckd.Pitch_report,['bouncy', 'dry', 'slow', 'green', 'glow'],ordered=False)"
   ]
  },
  {
   "cell_type": "code",
   "execution_count": 21,
   "metadata": {},
   "outputs": [],
   "source": [
    "ckd[\"Pitch_report\"].fillna(method=\"ffill\",inplace=True)"
   ]
  },
  {
   "cell_type": "markdown",
   "metadata": {},
   "source": [
    "### Batting First"
   ]
  },
  {
   "cell_type": "code",
   "execution_count": 22,
   "metadata": {},
   "outputs": [],
   "source": [
    "# Clearing any entry which is number which is not possible in this column\n",
    "cnt=0\n",
    "for row in ckd[\"Batting_first\"]:\n",
    "    if any(c.isnumeric() for c in str(row)):\n",
    "        ckd.loc[cnt,\"Batting_first\"]=np.nan\n",
    "    cnt+=1\n",
    "ckd=ckd.dropna(how=\"any\",subset=[\"Batting_first\"])\n",
    "ckd=ckd.reset_index(drop=True)"
   ]
  },
  {
   "cell_type": "code",
   "execution_count": 23,
   "metadata": {},
   "outputs": [],
   "source": [
    "# Changing Data Type for future analysis\n",
    "ckd[\"Batting_first\"].replace((\"Yes\",\"No\"),(1,0),inplace=True)\n",
    "ckd[\"Batting_first\"]=ckd[\"Batting_first\"].astype(\"int\")"
   ]
  },
  {
   "cell_type": "markdown",
   "metadata": {},
   "source": [
    "### Combination Changed"
   ]
  },
  {
   "cell_type": "code",
   "execution_count": 24,
   "metadata": {},
   "outputs": [],
   "source": [
    "ckd[\"Combination_changed\"].fillna(\"No\",inplace=True)"
   ]
  },
  {
   "cell_type": "code",
   "execution_count": 25,
   "metadata": {},
   "outputs": [],
   "source": [
    "# Changing Data Type for future analysis\n",
    "ckd[\"Combination_changed\"].replace((\"Yes\",\"No\"),(1,0),inplace=True)\n",
    "ckd[\"Combination_changed\"]=ckd[\"Combination_changed\"].astype(\"int\")"
   ]
  },
  {
   "cell_type": "markdown",
   "metadata": {},
   "source": [
    "### Pak Win"
   ]
  },
  {
   "cell_type": "code",
   "execution_count": 26,
   "metadata": {},
   "outputs": [],
   "source": [
    "# Clearing any entry which is number which is not possible in this column\n",
    "cnt=0\n",
    "for row in ckd[\"Pak_Win\"]:\n",
    "    if any(c.isnumeric() for c in str(row)):\n",
    "        ckd.loc[cnt,\"Pak_Win\"]=np.nan\n",
    "    cnt+=1"
   ]
  },
  {
   "cell_type": "code",
   "execution_count": 27,
   "metadata": {},
   "outputs": [],
   "source": [
    "ckd[\"Pak_Win\"]=pd.Categorical(ckd.Pak_Win,[\"Yes\",\"No\"],ordered=False)"
   ]
  },
  {
   "cell_type": "code",
   "execution_count": 28,
   "metadata": {},
   "outputs": [],
   "source": [
    "ckd=ckd.dropna(how=\"any\",subset=[\"Pak_Win\"])\n",
    "ckd=ckd.reset_index(drop=True)"
   ]
  },
  {
   "cell_type": "code",
   "execution_count": 29,
   "metadata": {},
   "outputs": [],
   "source": [
    "# Changing Data Type to int for future analysis\n",
    "ckd[\"Pak_Win\"].replace((\"Yes\",\"No\"),(1,0),inplace=True)\n",
    "ckd[\"Pak_Win\"]=ckd[\"Pak_Win\"].astype(\"int\")"
   ]
  },
  {
   "cell_type": "code",
   "execution_count": 30,
   "metadata": {},
   "outputs": [
    {
     "name": "stdout",
     "output_type": "stream",
     "text": [
      "<class 'pandas.core.frame.DataFrame'>\n",
      "RangeIndex: 92 entries, 0 to 91\n",
      "Data columns (total 11 columns):\n",
      "Consecutive_wins       92 non-null int64\n",
      "Season                 92 non-null category\n",
      "Opposition             92 non-null object\n",
      "Country                92 non-null object\n",
      "Ground                 92 non-null object\n",
      "Home_Ground            92 non-null int32\n",
      "One_day                92 non-null int32\n",
      "Pitch_report           92 non-null category\n",
      "Batting_first          92 non-null int32\n",
      "Combination_changed    92 non-null int32\n",
      "Pak_Win                92 non-null int32\n",
      "dtypes: category(2), int32(5), int64(1), object(3)\n",
      "memory usage: 5.4+ KB\n"
     ]
    }
   ],
   "source": [
    "ckd.info()"
   ]
  },
  {
   "cell_type": "markdown",
   "metadata": {},
   "source": [
    "# Univariate Analysis"
   ]
  },
  {
   "cell_type": "code",
   "execution_count": 31,
   "metadata": {},
   "outputs": [
    {
     "data": {
      "text/plain": [
       "<matplotlib.axes._subplots.AxesSubplot at 0xd9e3823c8>"
      ]
     },
     "execution_count": 31,
     "metadata": {},
     "output_type": "execute_result"
    },
    {
     "data": {
      "image/png": "[encoded data removed]",
      "text/plain": [
       "<Figure size 432x288 with 1 Axes>"
      ]
     },
     "metadata": {
      "needs_background": "light"
     },
     "output_type": "display_data"
    }
   ],
   "source": [
    "ckd[\"Consecutive_wins\"].plot(kind=\"line\")"
   ]
  },
  {
   "cell_type": "code",
   "execution_count": 32,
   "metadata": {},
   "outputs": [
    {
     "data": {
      "text/plain": [
       "<matplotlib.axes._subplots.AxesSubplot at 0xd9e6984e0>"
      ]
     },
     "execution_count": 32,
     "metadata": {},
     "output_type": "execute_result"
    },
    {
     "data": {
      "image/png": "[encoded data removed]",
      "text/plain": [
       "<Figure size 432x288 with 1 Axes>"
      ]
     },
     "metadata": {
      "needs_background": "light"
     },
     "output_type": "display_data"
    }
   ],
   "source": [
    "ckd[\"Consecutive_wins\"].plot(kind=\"box\")"
   ]
  },
  {
   "cell_type": "code",
   "execution_count": 33,
   "metadata": {},
   "outputs": [
    {
     "data": {
      "image/png": "[encoded data removed]",
      "text/plain": [
       "<Figure size 432x288 with 1 Axes>"
      ]
     },
     "metadata": {},
     "output_type": "display_data"
    }
   ],
   "source": [
    "S_count = ckd['Season'].value_counts()\n",
    "sns.set(style=\"darkgrid\")\n",
    "sns.barplot(S_count.index,S_count.values, alpha=0.9)\n",
    "plt.title('Frequency Distribution of Seasons')\n",
    "plt.ylabel('Number of Occurrences', fontsize=12)\n",
    "plt.xlabel('SEASONS', fontsize=12)\n",
    "plt.show()"
   ]
  },
  {
   "cell_type": "code",
   "execution_count": null,
   "metadata": {},
   "outputs": [],
   "source": [
    "HG_count = ckd['Home_Ground'].value_counts()\n",
    "sns.set(style=\"darkgrid\")\n",
    "sns.barplot(HG_count.index,HG_count.values, alpha=0.9)\n",
    "plt.title('Frequency Distribution of Picth Report')\n",
    "plt.ylabel('Number of Occurrences', fontsize=12)\n",
    "plt.xlabel('Pitch Reports', fontsize=12)\n",
    "plt.show()"
   ]
  },
  {
   "cell_type": "code",
   "execution_count": null,
   "metadata": {},
   "outputs": [],
   "source": [
    "# Here 1 means Yes and 0 means no\n",
    "OD_count = ckd['One_day'].value_counts()\n",
    "sns.set(style=\"darkgrid\")\n",
    "sns.barplot(OD_count.index,OD_count.values, alpha=0.9)\n",
    "plt.title('Frequency Distribution of One Days of Not')\n",
    "plt.ylabel('Number of Occurrences', fontsize=12)\n",
    "plt.xlabel('One Day or Not', fontsize=12)\n",
    "plt.show()"
   ]
  },
  {
   "cell_type": "code",
   "execution_count": null,
   "metadata": {},
   "outputs": [],
   "source": [
    "print(ckd['Pitch_report'].value_counts())"
   ]
  },
  {
   "cell_type": "code",
   "execution_count": null,
   "metadata": {},
   "outputs": [],
   "source": [
    "# Here 1 means Yes and 0 means no\n",
    "PR_count = ckd['Pitch_report'].value_counts()\n",
    "sns.set(style=\"darkgrid\")\n",
    "sns.barplot(PR_count.index,PR_count.values, alpha=0.9)\n",
    "plt.title('Frequency Distribution of Picth Report')\n",
    "plt.ylabel('Number of Occurrences', fontsize=12)\n",
    "plt.xlabel('Pitch Reports', fontsize=12)\n",
    "plt.show()"
   ]
  },
  {
   "cell_type": "code",
   "execution_count": null,
   "metadata": {},
   "outputs": [],
   "source": [
    "# Here 1 means Yes and 0 means no\n",
    "BF_count = ckd['Batting_first'].value_counts()\n",
    "sns.set(style=\"darkgrid\")\n",
    "sns.barplot(BF_count.index,BF_count.values, alpha=0.9)\n",
    "plt.title('Frequency Distribution of Batting First or Not')\n",
    "plt.ylabel('Number of Occurrences', fontsize=12)\n",
    "plt.xlabel('Batting First or Not', fontsize=12)\n",
    "plt.show()"
   ]
  },
  {
   "cell_type": "code",
   "execution_count": null,
   "metadata": {},
   "outputs": [],
   "source": [
    "# Here 1 means Yes and 0 means no\n",
    "CC_count = ckd['Combination_changed'].value_counts()\n",
    "sns.set(style=\"darkgrid\")\n",
    "sns.barplot(CC_count.index,CC_count.values, alpha=0.9)\n",
    "plt.title('Frequency Distribution of Cominational Changes or Not')\n",
    "plt.ylabel('Number of Occurrences', fontsize=12)\n",
    "plt.xlabel('Combinational Changes or Not', fontsize=12)\n",
    "plt.show()"
   ]
  },
  {
   "cell_type": "code",
   "execution_count": null,
   "metadata": {},
   "outputs": [],
   "source": [
    "# Here 1 means Yes and 0 means no\n",
    "PW_count = ckd['Pak_Win'].value_counts()\n",
    "sns.set(style=\"darkgrid\")\n",
    "sns.barplot(PW_count.index,PW_count.values, alpha=0.9)\n",
    "plt.title('Frequency Distribution of Pakistan Wins')\n",
    "plt.ylabel('Number of Occurrences', fontsize=12)\n",
    "plt.xlabel('Pakistan Wins', fontsize=12)\n",
    "plt.show()"
   ]
  },
  {
   "cell_type": "markdown",
   "metadata": {},
   "source": [
    "# Correlation"
   ]
  },
  {
   "cell_type": "code",
   "execution_count": null,
   "metadata": {},
   "outputs": [],
   "source": [
    "ck=ckd.corr(method='pearson')\n",
    "ck"
   ]
  },
  {
   "cell_type": "code",
   "execution_count": null,
   "metadata": {},
   "outputs": [],
   "source": [
    "sns.heatmap(ck, annot=True, cmap=plt.cm.Reds)\n",
    "plt.savefig('Cricket Correlation.png')"
   ]
  },
  {
   "cell_type": "markdown",
   "metadata": {},
   "source": [
    "# Installing Pandas Profilling Library"
   ]
  },
  {
   "cell_type": "code",
   "execution_count": null,
   "metadata": {},
   "outputs": [],
   "source": [
    "conda install -c conda-forge pandas-profiling"
   ]
  },
  {
   "cell_type": "code",
   "execution_count": null,
   "metadata": {},
   "outputs": [],
   "source": [
    "import pandas_profiling\n",
    "from pandas_profiling import ProfileReport"
   ]
  },
  {
   "cell_type": "markdown",
   "metadata": {},
   "source": [
    "# Building an Interactive Report"
   ]
  },
  {
   "cell_type": "code",
   "execution_count": null,
   "metadata": {},
   "outputs": [],
   "source": [
    "profile = ProfileReport(ckd, title='Pandas Profiling Report', html={'style':{'full_width':True}})"
   ]
  },
  {
   "cell_type": "code",
   "execution_count": null,
   "metadata": {},
   "outputs": [],
   "source": []
  },
  {
   "cell_type": "code",
   "execution_count": null,
   "metadata": {},
   "outputs": [],
   "source": [
    "ckd.profile_report(style={'full_width':True})"
   ]
  },
  {
   "cell_type": "code",
   "execution_count": null,
   "metadata": {},
   "outputs": [],
   "source": [
    "profile = ckd.profile_report()\n",
    "rejected_variables = profile.get_rejected_variables(threshold=0.9)"
   ]
  },
  {
   "cell_type": "code",
   "execution_count": null,
   "metadata": {},
   "outputs": [],
   "source": [
    "profile = ckd.profile_report(title='Pandas Profiling Report')\n",
    "profile.to_file(output_file=\"Cricket Report.html\")"
   ]
  },
  {
   "cell_type": "code",
   "execution_count": null,
   "metadata": {},
   "outputs": [],
   "source": [
    "ckd.to_csv(\"C:/Users/Hassan Ahmed/Desktop/Data Science Cohort-1 FTI/cricket_clean.csv\",index=False)"
   ]
  },
  {
   "cell_type": "code",
   "execution_count": null,
   "metadata": {},
   "outputs": [],
   "source": []
  },
  {
   "cell_type": "code",
   "execution_count": null,
   "metadata": {},
   "outputs": [],
   "source": []
  }
 ],
 "metadata": {
  "kernelspec": {
   "display_name": "Python 3",
   "language": "python",
   "name": "python3"
  },
  "language_info": {
   "codemirror_mode": {
    "name": "ipython",
    "version": 3
   },
   "file_extension": ".py",
   "mimetype": "text/x-python",
   "name": "python",
   "nbconvert_exporter": "python",
   "pygments_lexer": "ipython3",
   "version": "3.7.3"
  }
 },
 "nbformat": 4,
 "nbformat_minor": 2
}
